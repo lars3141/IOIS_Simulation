{
 "cells": [
  {
   "cell_type": "code",
   "execution_count": 1,
   "source": [
    "import model"
   ],
   "outputs": [],
   "metadata": {}
  },
  {
   "cell_type": "code",
   "execution_count": 2,
   "source": [
    "# u = readCsv('disorder.csv')"
   ],
   "outputs": [],
   "metadata": {}
  },
  {
   "cell_type": "code",
   "execution_count": 3,
   "source": [
    "firstModel = model.IoisModel(verbose = True)"
   ],
   "outputs": [],
   "metadata": {}
  },
  {
   "cell_type": "code",
   "execution_count": 4,
   "source": [
    "%prun firstModel.run_model()"
   ],
   "outputs": [
    {
     "output_type": "stream",
     "name": "stdout",
     "text": [
      "['Time: ', 1, 'Apps: ', 41, 'Pay: ', 2558.535338864839, 'Cost', 2460.0, 'Actor Connections', 616, 'Application Connections', 2508]\n",
      "['Time: ', 2, 'Apps: ', 41, 'Pay: ', 5989.598336639995, 'Cost', 2579.0, 'Actor Connections', 610, 'Application Connections', 3087]\n",
      "['Time: ', 3, 'Apps: ', 41, 'Pay: ', 9437.05058789437, 'Cost', 2819.0, 'Actor Connections', 637, 'Application Connections', 3602]\n",
      "['Time: ', 4, 'Apps: ', 41, 'Pay: ', 12916.653701045567, 'Cost', 3179.0, 'Actor Connections', 672, 'Application Connections', 4022]\n",
      "['Time: ', 5, 'Apps: ', 42, 'Pay: ', 16418.969622133227, 'Cost', 3715.0, 'Actor Connections', 691, 'Application Connections', 4328]\n",
      "['Time: ', 6, 'Apps: ', 42, 'Pay: ', 19595.559166155577, 'Cost', 4315.0, 'Actor Connections', 713, 'Application Connections', 4657]\n",
      "['Time: ', 7, 'Apps: ', 42, 'Pay: ', 23088.660918539324, 'Cost', 5035.0, 'Actor Connections', 745, 'Application Connections', 4701]\n",
      "['Time: ', 8, 'Apps: ', 42, 'Pay: ', 26565.010154837553, 'Cost', 5875.0, 'Actor Connections', 744, 'Application Connections', 4781]\n",
      "['Time: ', 9, 'Apps: ', 42, 'Pay: ', 29985.65595603898, 'Cost', 6835.0, 'Actor Connections', 767, 'Application Connections', 4599]\n",
      "['Time: ', 10, 'Apps: ', 42, 'Pay: ', 33308.240772299134, 'Cost', 7915.0, 'Actor Connections', 768, 'Application Connections', 3108]\n",
      "['Time: ', 11, 'Apps: ', 42, 'Pay: ', 36619.08416504028, 'Cost', 9115.0, 'Actor Connections', 780, 'Application Connections', 2880]\n",
      "['Time: ', 12, 'Apps: ', 25, 'Pay: ', 40091.01563744366, 'Cost', 10435.0, 'Actor Connections', 800, 'Application Connections', 2880]\n",
      "['Time: ', 13, 'Apps: ', 24, 'Pay: ', 43546.90743084378, 'Cost', 11863.0, 'Actor Connections', 833, 'Application Connections', 2878]\n",
      "['Time: ', 14, 'Apps: ', 24, 'Pay: ', 46843.636275363235, 'Cost', 13423.0, 'Actor Connections', 808, 'Application Connections', 2760]\n",
      "['Time: ', 15, 'Apps: ', 25, 'Pay: ', 50317.12611443719, 'Cost', 15149.0, 'Actor Connections', 774, 'Application Connections', 2760]\n",
      "['Time: ', 16, 'Apps: ', 24, 'Pay: ', 53633.877593520614, 'Cost', 16949.0, 'Actor Connections', 770, 'Application Connections', 2751]\n",
      "['Time: ', 17, 'Apps: ', 24, 'Pay: ', 56988.7995331485, 'Cost', 18853.0, 'Actor Connections', 772, 'Application Connections', 2644]\n",
      "['Time: ', 18, 'Apps: ', 25, 'Pay: ', 60490.7974982289, 'Cost', 20936.0, 'Actor Connections', 805, 'Application Connections', 2688]\n",
      "['Time: ', 19, 'Apps: ', 25, 'Pay: ', 63946.17629738648, 'Cost', 23062.0, 'Actor Connections', 841, 'Application Connections', 2813]\n",
      "['Time: ', 20, 'Apps: ', 24, 'Pay: ', 67219.86009092891, 'Cost', 25287.0, 'Actor Connections', 837, 'Application Connections', 2857]\n",
      "['Time: ', 21, 'Apps: ', 25, 'Pay: ', 70584.21367814975, 'Cost', 27673.0, 'Actor Connections', 838, 'Application Connections', 2875]\n",
      "['Time: ', 22, 'Apps: ', 25, 'Pay: ', 73863.8900495381, 'Cost', 30055.0, 'Actor Connections', 853, 'Application Connections', 2960]\n",
      "['Time: ', 23, 'Apps: ', 25, 'Pay: ', 77049.23730721383, 'Cost', 32523.0, 'Actor Connections', 874, 'Application Connections', 2981]\n",
      "['Time: ', 24, 'Apps: ', 26, 'Pay: ', 80352.70060734655, 'Cost', 35096.0, 'Actor Connections', 892, 'Application Connections', 2880]\n",
      "['Time: ', 25, 'Apps: ', 26, 'Pay: ', 83397.71636921071, 'Cost', 37648.0, 'Actor Connections', 884, 'Application Connections', 2914]\n",
      "['Time: ', 26, 'Apps: ', 26, 'Pay: ', 86582.27001719363, 'Cost', 40221.0, 'Actor Connections', 878, 'Application Connections', 2989]\n",
      "['Time: ', 27, 'Apps: ', 26, 'Pay: ', 89618.17874890815, 'Cost', 42663.0, 'Actor Connections', 909, 'Application Connections', 3042]\n",
      "['Time: ', 28, 'Apps: ', 26, 'Pay: ', 92153.53816054689, 'Cost', 44805.0, 'Actor Connections', 915, 'Application Connections', 3089]\n",
      "['Time: ', 29, 'Apps: ', 26, 'Pay: ', 94697.80864221259, 'Cost', 47058.0, 'Actor Connections', 926, 'Application Connections', 3112]\n",
      "['Time: ', 30, 'Apps: ', 26, 'Pay: ', 96821.39070989517, 'Cost', 48902.0, 'Actor Connections', 903, 'Application Connections', 3118]\n",
      "['Time: ', 31, 'Apps: ', 26, 'Pay: ', 99001.11689392087, 'Cost', 50827.0, 'Actor Connections', 902, 'Application Connections', 3118]\n",
      "['Time: ', 32, 'Apps: ', 26, 'Pay: ', 100588.27373807732, 'Cost', 52264.0, 'Actor Connections', 886, 'Application Connections', 3118]\n",
      "['Time: ', 33, 'Apps: ', 26, 'Pay: ', 102040.75403972989, 'Cost', 53608.0, 'Actor Connections', 865, 'Application Connections', 3117]\n",
      "['Time: ', 34, 'Apps: ', 26, 'Pay: ', 103226.72463153473, 'Cost', 54677.0, 'Actor Connections', 895, 'Application Connections', 3119]\n",
      "['Time: ', 35, 'Apps: ', 26, 'Pay: ', 104184.9868372267, 'Cost', 55609.0, 'Actor Connections', 912, 'Application Connections', 3119]\n",
      "['Time: ', 36, 'Apps: ', 26, 'Pay: ', 104562.83290449585, 'Cost', 55959.0, 'Actor Connections', 946, 'Application Connections', 3000]\n",
      "['Time: ', 37, 'Apps: ', 26, 'Pay: ', 104942.43750117921, 'Cost', 56299.0, 'Actor Connections', 968, 'Application Connections', 2880]\n",
      "['Time: ', 38, 'Apps: ', 26, 'Pay: ', 105168.31194661037, 'Cost', 56481.0, 'Actor Connections', 978, 'Application Connections', 2760]\n",
      "['Time: ', 39, 'Apps: ', 26, 'Pay: ', 105426.52429646465, 'Cost', 56727.0, 'Actor Connections', 959, 'Application Connections', 2760]\n",
      "['Time: ', 40, 'Apps: ', 24, 'Pay: ', 105533.44586840479, 'Cost', 56824.0, 'Actor Connections', 965, 'Application Connections', 2640]\n",
      "['Time: ', 41, 'Apps: ', 23, 'Pay: ', 105558.08909244274, 'Cost', 56844.0, 'Actor Connections', 996, 'Application Connections', 2640]\n",
      "['Time: ', 42, 'Apps: ', 22, 'Pay: ', 105611.41402368217, 'Cost', 56886.0, 'Actor Connections', 1001, 'Application Connections', 2520]\n",
      "['Time: ', 43, 'Apps: ', 21, 'Pay: ', 105664.76921426947, 'Cost', 56930.0, 'Actor Connections', 996, 'Application Connections', 2400]\n",
      "['Time: ', 44, 'Apps: ', 19, 'Pay: ', 105717.9949795048, 'Cost', 56976.0, 'Actor Connections', 1028, 'Application Connections', 2280]\n",
      "['Time: ', 45, 'Apps: ', 17, 'Pay: ', 105789.71312808078, 'Cost', 57024.0, 'Actor Connections', 1016, 'Application Connections', 2040]\n",
      "['Time: ', 46, 'Apps: ', 15, 'Pay: ', 105880.08435783282, 'Cost', 57099.0, 'Actor Connections', 1013, 'Application Connections', 1800]\n",
      "['Time: ', 47, 'Apps: ', 13, 'Pay: ', 105973.4337004991, 'Cost', 57211.0, 'Actor Connections', 1035, 'Application Connections', 1442]\n",
      "['Time: ', 48, 'Apps: ', 14, 'Pay: ', 106628.35586132627, 'Cost', 57897.0, 'Actor Connections', 1060, 'Application Connections', 1138]\n",
      "['Time: ', 49, 'Apps: ', 13, 'Pay: ', 107878.4909360248, 'Cost', 58625.0, 'Actor Connections', 1086, 'Application Connections', 1314]\n",
      "['Time: ', 50, 'Apps: ', 12, 'Pay: ', 109592.49480561347, 'Cost', 59478.0, 'Actor Connections', 1122, 'Application Connections', 1308]\n",
      "['Time: ', 51, 'Apps: ', 12, 'Pay: ', 111881.36831715117, 'Cost', 60730.0, 'Actor Connections', 1135, 'Application Connections', 1180]\n",
      "['Time: ', 52, 'Apps: ', 13, 'Pay: ', 114467.46426554842, 'Cost', 61990.0, 'Actor Connections', 1140, 'Application Connections', 1209]\n",
      "['Time: ', 53, 'Apps: ', 14, 'Pay: ', 116981.8030533107, 'Cost', 63178.0, 'Actor Connections', 1154, 'Application Connections', 1294]\n",
      "['Time: ', 54, 'Apps: ', 14, 'Pay: ', 119195.03398738832, 'Cost', 64178.0, 'Actor Connections', 1203, 'Application Connections', 1583]\n",
      "['Time: ', 55, 'Apps: ', 14, 'Pay: ', 121155.36467541786, 'Cost', 64989.0, 'Actor Connections', 1228, 'Application Connections', 1669]\n",
      "['Time: ', 56, 'Apps: ', 14, 'Pay: ', 123012.94682312805, 'Cost', 65757.0, 'Actor Connections', 1263, 'Application Connections', 1674]\n",
      "['Time: ', 57, 'Apps: ', 14, 'Pay: ', 124976.79292823156, 'Cost', 66485.0, 'Actor Connections', 1276, 'Application Connections', 1680]\n",
      "['Time: ', 58, 'Apps: ', 14, 'Pay: ', 127090.93499927246, 'Cost', 67352.0, 'Actor Connections', 1299, 'Application Connections', 1680]\n",
      "['Time: ', 59, 'Apps: ', 14, 'Pay: ', 129064.66694278414, 'Cost', 68200.0, 'Actor Connections', 1299, 'Application Connections', 1680]\n",
      "['Time: ', 60, 'Apps: ', 14, 'Pay: ', 130844.58375556942, 'Cost', 69008.0, 'Actor Connections', 1295, 'Application Connections', 1560]\n",
      "['Time: ', 61, 'Apps: ', 14, 'Pay: ', 133016.28480183426, 'Cost', 69996.0, 'Actor Connections', 1289, 'Application Connections', 1560]\n",
      "['Time: ', 62, 'Apps: ', 15, 'Pay: ', 135190.24516143094, 'Cost', 71192.0, 'Actor Connections', 1298, 'Application Connections', 1567]\n",
      "['Time: ', 63, 'Apps: ', 15, 'Pay: ', 137375.57620866713, 'Cost', 72432.0, 'Actor Connections', 1276, 'Application Connections', 1672]\n",
      "['Time: ', 64, 'Apps: ', 15, 'Pay: ', 139353.36357166513, 'Cost', 73564.0, 'Actor Connections', 1244, 'Application Connections', 1777]\n",
      "['Time: ', 65, 'Apps: ', 15, 'Pay: ', 141955.58879003034, 'Cost', 75022.0, 'Actor Connections', 1269, 'Application Connections', 1793]\n",
      "['Time: ', 66, 'Apps: ', 15, 'Pay: ', 144154.46421030795, 'Cost', 76338.0, 'Actor Connections', 1253, 'Application Connections', 1799]\n",
      "['Time: ', 67, 'Apps: ', 16, 'Pay: ', 146447.55642476748, 'Cost', 77892.0, 'Actor Connections', 1248, 'Application Connections', 1801]\n",
      "['Time: ', 68, 'Apps: ', 17, 'Pay: ', 148934.8950092593, 'Cost', 79491.0, 'Actor Connections', 1231, 'Application Connections', 1899]\n",
      "['Time: ', 69, 'Apps: ', 17, 'Pay: ', 151461.67073725804, 'Cost', 81270.0, 'Actor Connections', 1194, 'Application Connections', 1974]\n",
      "['Time: ', 70, 'Apps: ', 17, 'Pay: ', 153787.89123135328, 'Cost', 82989.0, 'Actor Connections', 1175, 'Application Connections', 2033]\n",
      "['Time: ', 71, 'Apps: ', 17, 'Pay: ', 155930.84277117555, 'Cost', 84737.0, 'Actor Connections', 1143, 'Application Connections', 2037]\n",
      "['Time: ', 72, 'Apps: ', 17, 'Pay: ', 158273.49492289283, 'Cost', 86483.0, 'Actor Connections', 1152, 'Application Connections', 2040]\n",
      "['Time: ', 73, 'Apps: ', 17, 'Pay: ', 160469.22370983945, 'Cost', 88348.0, 'Actor Connections', 1147, 'Application Connections', 2040]\n",
      "['Time: ', 74, 'Apps: ', 16, 'Pay: ', 163434.68218882725, 'Cost', 90784.0, 'Actor Connections', 1148, 'Application Connections', 1920]\n",
      "['Time: ', 75, 'Apps: ', 16, 'Pay: ', 166011.67864505915, 'Cost', 93030.0, 'Actor Connections', 1132, 'Application Connections', 1920]\n",
      "['Time: ', 76, 'Apps: ', 16, 'Pay: ', 168442.01777734107, 'Cost', 95236.0, 'Actor Connections', 1112, 'Application Connections', 1800]\n",
      "['Time: ', 77, 'Apps: ', 16, 'Pay: ', 170724.39685501714, 'Cost', 97228.0, 'Actor Connections', 1057, 'Application Connections', 1800]\n"
     ]
    }
   ],
   "metadata": {}
  },
  {
   "cell_type": "code",
   "execution_count": 10,
   "source": [
    "for app in firstModel.schedule.appList.values():\r\n",
    "    print(app.av)"
   ],
   "outputs": [
    {
     "output_type": "stream",
     "name": "stdout",
     "text": [
      "('1', '0', '?', '0', '?', '?', '0', '0', '0', '0')\n",
      "('?', '0', '0', '?', '0', '0', '?', '0', '0', '0')\n",
      "('0', '1', '0', '?', '1', '?', '?', '0', '1', '0')\n",
      "('0', '?', '0', '0', '1', '0', '0', '?', '1', '?')\n",
      "('?', '0', '?', '0', '0', '1', '0', '1', '?', '1')\n",
      "('?', '0', '?', '1', '?', '1', '1', '0', '0', '1')\n",
      "('0', '?', '?', '0', '0', '0', '?', '0', '1', '1')\n",
      "('0', '1', '?', '?', '0', '0', '?', '1', '0', '1')\n",
      "('0', '0', '?', '?', '0', '0', '0', '0', '?', '1')\n",
      "('0', '0', '1', '?', '1', '1', '0', '0', '?', '?')\n",
      "('0', '0', '1', '1', '0', '0', '?', '1', '?', '?')\n",
      "('0', '1', '1', '0', '0', '?', '?', '?', '0', '0')\n",
      "('0', '?', '0', '?', '1', '0', '1', '0', '1', '?')\n",
      "('1', '0', '?', '1', '0', '1', '1', '?', '1', '?')\n",
      "('1', '?', '?', '1', '1', '?', '0', '0', '0', '1')\n",
      "('0', '?', '?', '0', '0', '0', '0', '1', '0', '?')\n",
      "('?', '0', '1', '?', '1', '0', '0', '0', '0', '?')\n"
     ]
    }
   ],
   "metadata": {}
  },
  {
   "cell_type": "code",
   "execution_count": 6,
   "source": [
    "import time\r\n",
    "import numpy as np"
   ],
   "outputs": [],
   "metadata": {}
  },
  {
   "cell_type": "code",
   "execution_count": 7,
   "source": [
    "vector = firstModel.schedule.allOpportunities[1].opportunities[0].vector"
   ],
   "outputs": [],
   "metadata": {}
  },
  {
   "cell_type": "code",
   "execution_count": 12,
   "source": [
    "np.fromiter((abs(i - 1) if np.random.binomial(1, firstModel.ambiguity) == 1 else i for i in vector),int)"
   ],
   "outputs": [
    {
     "output_type": "execute_result",
     "data": {
      "text/plain": [
       "array([0, 0, 1, 0, 0, 0, 1, 0, 0, 0])"
      ]
     },
     "metadata": {},
     "execution_count": 12
    }
   ],
   "metadata": {}
  },
  {
   "cell_type": "code",
   "execution_count": 49,
   "source": [
    "np.fromiter((abs(i - 1) if np.random.binomial(1, firstModel.ambiguity) == 1 else i for i in np.copy(vector)),dtype='U1')"
   ],
   "outputs": [
    {
     "output_type": "execute_result",
     "data": {
      "text/plain": [
       "array(['0', '1', '0', '0', '0', '0', '1', '1', '0', '0'], dtype='<U1')"
      ]
     },
     "metadata": {},
     "execution_count": 49
    }
   ],
   "metadata": {}
  },
  {
   "cell_type": "code",
   "execution_count": 11,
   "source": [
    "np.array(vector,int)"
   ],
   "outputs": [
    {
     "output_type": "execute_result",
     "data": {
      "text/plain": [
       "array([0, 0, 1, 0, 0, 0, 1, 0, 0, 0])"
      ]
     },
     "metadata": {},
     "execution_count": 11
    }
   ],
   "metadata": {}
  },
  {
   "cell_type": "code",
   "execution_count": 80,
   "source": [
    "from mesa import Agent\r\n",
    "import numpy as np\r\n",
    "from utility import match\r\n",
    "from operator import itemgetter\r\n",
    "\r\n",
    "def communicate1(self, schedule):\r\n",
    "        \"\"\"\r\n",
    "        The agent communicates\r\n",
    "        \"\"\"\r\n",
    "        edgesToAdd = []\r\n",
    "        for s,actorKey,d in schedule.network.edges(self.unique_id, data=True):\r\n",
    "            if actorKey in schedule.actorList and schedule.actorList[actorKey].tier != self.tier and d['strength'] >= self.model.commThreshold:\r\n",
    "\r\n",
    "                d['strength'] = min(d['strength'] + self.model.commGain, 1)\r\n",
    "                \r\n",
    "                for app in list(set(schedule.network.neighbors(actorKey)) | set(schedule.network.neighbors(s))):\r\n",
    "                    if app not in schedule.actorList:\r\n",
    "                        try:\r\n",
    "                            ownKnow = schedule.network[self.unique_id][app]['strength']\r\n",
    "                        except KeyError:\r\n",
    "                            edgesToAdd.append((self.unique_id, app, schedule.network[actorKey][app]['strength'] * self.model.commDensity))\r\n",
    "                            continue\r\n",
    "                        try:\r\n",
    "                            otherKnow = schedule.network[actorKey][app]['strength']\r\n",
    "                        except KeyError:\r\n",
    "                            edgesToAdd.append((actorKey, app, ownKnow * self.model.commDensity))\r\n",
    "                            continue\r\n",
    "                        diff = ownKnow - otherKnow\r\n",
    "                        if diff > 0:\r\n",
    "                            schedule.network[actorKey][app]['strength'] += diff * self.model.commDensity\r\n",
    "                        elif diff < 0:\r\n",
    "                            schedule.network[self.unique_id][app]['strength'] += -diff * self.model.commDensity\r\n",
    "                # as array: (app, node1, node2) aber dann keine Verbindung zu nodes\r\n",
    "                \r\n",
    "        schedule.network.add_weighted_edges_from(edgesToAdd, 'strength')\r\n",
    "\r\n",
    "\r\n",
    "def communicate2(self, schedule):\r\n",
    "        \"\"\"\r\n",
    "        The agent communicates\r\n",
    "        \"\"\"\r\n",
    "        edgesToAdd = []\r\n",
    "        for s,actorKey,d in schedule.network.edges(self.unique_id, data=True):\r\n",
    "            if actorKey in schedule.actorList and schedule.actorList[actorKey].tier != self.tier and d['strength'] >= self.model.commThreshold:\r\n",
    "\r\n",
    "                d['strength'] = min(d['strength'] + self.model.commGain, 1)\r\n",
    "                \r\n",
    "                for app in list(set(schedule.network.neighbors(actorKey)) | set(schedule.network.neighbors(s))):\r\n",
    "                    if app not in schedule.actorList:\r\n",
    "                        try:\r\n",
    "                            ownKnow = schedule.network[self.unique_id][app]['strength']\r\n",
    "                        except KeyError:\r\n",
    "                            edgesToAdd.append((self.unique_id, app, schedule.network[actorKey][app]['strength'] * self.model.commDensity))\r\n",
    "                            continue\r\n",
    "                        try:\r\n",
    "                            otherKnow = schedule.network[actorKey][app]['strength']\r\n",
    "                        except KeyError:\r\n",
    "                            edgesToAdd.append((actorKey, app, ownKnow * self.model.commDensity))\r\n",
    "                            continue\r\n",
    "                        diff = ownKnow - otherKnow\r\n",
    "                        if diff > 0:\r\n",
    "                            schedule.network[actorKey][app]['strength'] += diff * self.model.commDensity\r\n",
    "                        elif diff < 0:\r\n",
    "                            schedule.network[self.unique_id][app]['strength'] += -diff * self.model.commDensity\r\n",
    "                # as array: (app, node1, node2) aber dann keine Verbindung zu nodes\r\n",
    "                \r\n",
    "        schedule.network.add_weighted_edges_from(edgesToAdd, 'strength')"
   ],
   "outputs": [],
   "metadata": {}
  },
  {
   "cell_type": "code",
   "execution_count": 8,
   "source": [
    "from utility import match\r\n",
    "import time\r\n",
    "import networkx as nx\r\n",
    "import pandas as pd\r\n",
    "import numpy as np"
   ],
   "outputs": [],
   "metadata": {}
  },
  {
   "cell_type": "code",
   "execution_count": 82,
   "source": [
    "self = firstModel.schedule.actorList[0]\r\n",
    "perceived=[0,1,0,1,0,1,0,1,0,1]\r\n",
    "schedule=firstModel.schedule\r\n",
    "time1 = 0.0\r\n",
    "for i in range(1000):\r\n",
    "    start1 = time.time()\r\n",
    "    communicate1(self, schedule)\r\n",
    "    stop1 = time.time()\r\n",
    "    time1 += stop1 - start1\r\n",
    "\r\n",
    "self = firstModel.schedule.actorList[0]\r\n",
    "perceived=[0,1,0,1,0,1,0,1,0,1]\r\n",
    "schedule=firstModel.schedule\r\n",
    "time2 = 0.0\r\n",
    "for i in range(1000):\r\n",
    "    start2 = time.time()\r\n",
    "    communicate2(self, schedule)\r\n",
    "    stop2 = time.time()\r\n",
    "    time2 += stop2 - start2\r\n",
    "\r\n",
    "print(time1)\r\n",
    "print(time2)"
   ],
   "outputs": [
    {
     "output_type": "stream",
     "name": "stdout",
     "text": [
      "2.331467628479004\n",
      "56.53080701828003\n"
     ]
    }
   ],
   "metadata": {}
  },
  {
   "cell_type": "code",
   "execution_count": 28,
   "source": [
    "v1 = firstModel.schedule.appList[120].av\r\n",
    "v2 = (0,1,0,1,0,1,0,1,0,1)"
   ],
   "outputs": [],
   "metadata": {}
  },
  {
   "cell_type": "code",
   "execution_count": 5,
   "source": [
    "firstModel.schedule.appList"
   ],
   "outputs": [
    {
     "output_type": "execute_result",
     "data": {
      "text/plain": [
       "{120: <agents.Application at 0x2a018ad2550>,\n",
       " 121: <agents.Application at 0x2a018ad24a8>,\n",
       " 122: <agents.Application at 0x2a056239320>,\n",
       " 123: <agents.Application at 0x2a018ad23c8>,\n",
       " 124: <agents.Application at 0x2a018ada198>,\n",
       " 125: <agents.Application at 0x2a018ada240>,\n",
       " 126: <agents.Application at 0x2a018ada2e8>,\n",
       " 127: <agents.Application at 0x2a018ada390>,\n",
       " 128: <agents.Application at 0x2a018ada438>,\n",
       " 129: <agents.Application at 0x2a018ada4e0>,\n",
       " 130: <agents.Application at 0x2a018ada588>,\n",
       " 131: <agents.Application at 0x2a018ada630>,\n",
       " 132: <agents.Application at 0x2a018ada6d8>,\n",
       " 133: <agents.Application at 0x2a018ada780>,\n",
       " 134: <agents.Application at 0x2a018ada828>,\n",
       " 135: <agents.Application at 0x2a018ada8d0>,\n",
       " 136: <agents.Application at 0x2a018ada978>,\n",
       " 137: <agents.Application at 0x2a018adaa20>,\n",
       " 138: <agents.Application at 0x2a018adaac8>,\n",
       " 139: <agents.Application at 0x2a018adab70>,\n",
       " 140: <agents.Application at 0x2a018adac18>,\n",
       " 141: <agents.Application at 0x2a018adacc0>,\n",
       " 142: <agents.Application at 0x2a018adad68>,\n",
       " 143: <agents.Application at 0x2a018adae10>,\n",
       " 144: <agents.Application at 0x2a018b0a160>,\n",
       " 145: <agents.Application at 0x2a018b0a320>,\n",
       " 146: <agents.Application at 0x2a018b0a4a8>,\n",
       " 147: <agents.Application at 0x2a018b0a8d0>,\n",
       " 148: <agents.Application at 0x2a018b0ac50>,\n",
       " 149: <agents.Application at 0x2a018b0add8>,\n",
       " 150: <agents.Application at 0x2a018b0af98>,\n",
       " 151: <agents.Application at 0x2a01823ec88>,\n",
       " 152: <agents.Application at 0x2a018ada400>,\n",
       " 153: <agents.Application at 0x2a018ada6a0>,\n",
       " 154: <agents.Application at 0x2a018adadd8>,\n",
       " 155: <agents.Application at 0x2a018adafd0>,\n",
       " 156: <agents.Application at 0x2a018b0a390>,\n",
       " 157: <agents.Application at 0x2a018b0a5f8>,\n",
       " 158: <agents.Application at 0x2a018b0a7b8>,\n",
       " 159: <agents.Application at 0x2a018b0aa20>,\n",
       " 160: <agents.Application at 0x2a018b9ca58>,\n",
       " 161: <agents.Application at 0x2a018bbf048>,\n",
       " 162: <agents.Application at 0x2a018bbf128>,\n",
       " 163: <agents.Application at 0x2a018bbf518>,\n",
       " 164: <agents.Application at 0x2a018bbfd68>}"
      ]
     },
     "metadata": {},
     "execution_count": 5
    }
   ],
   "metadata": {}
  },
  {
   "cell_type": "code",
   "execution_count": 31,
   "source": [
    "def sum1(v1, v2):\r\n",
    "    sum = 0.0\r\n",
    "    for a,b in zip(v1, v2):\r\n",
    "        if a == '?':\r\n",
    "            sum += 0.5\r\n",
    "        elif int(a) == b:\r\n",
    "            sum += 1.0\r\n",
    "    return sum\r\n",
    "\r\n",
    "def sum2(v1, v2):\r\n",
    "    sum = 0.0\r\n",
    "    for a,b in zip(v1, v2):\r\n",
    "        try:\r\n",
    "            if int(a) == b: sum += 1.0\r\n",
    "        except ValueError:\r\n",
    "            sum += 0.5\r\n",
    "    return sum"
   ],
   "outputs": [],
   "metadata": {}
  },
  {
   "cell_type": "code",
   "execution_count": 32,
   "source": [
    "print(sum1(v2, v2))"
   ],
   "outputs": [
    {
     "output_type": "stream",
     "name": "stdout",
     "text": [
      "10.0\n"
     ]
    }
   ],
   "metadata": {}
  },
  {
   "cell_type": "code",
   "execution_count": 25,
   "source": [
    "time1 = 0.0\r\n",
    "for i in range(1000000):\r\n",
    "    start1 = time.time()\r\n",
    "    sum = sum1(v1, v2)\r\n",
    "    stop1 = time.time()\r\n",
    "    time1 += stop1 - start1\r\n",
    "\r\n",
    "time2 = 0.0\r\n",
    "for i in range(1000000):\r\n",
    "    start2 = time.time()\r\n",
    "    sum = sum2(v1, v2)\r\n",
    "    stop2 = time.time()\r\n",
    "    time2 += stop2 - start2\r\n",
    "\r\n",
    "print(time1)\r\n",
    "print(time2)"
   ],
   "outputs": [
    {
     "output_type": "stream",
     "name": "stdout",
     "text": [
      "3.5280344486236572\n",
      "9.025083780288696\n"
     ]
    }
   ],
   "metadata": {}
  },
  {
   "cell_type": "code",
   "execution_count": 11,
   "source": [
    "import time\r\n",
    "import numpy as np\r\n",
    "from random import choices\r\n",
    "from random import choice"
   ],
   "outputs": [],
   "metadata": {}
  },
  {
   "cell_type": "code",
   "execution_count": 44,
   "source": [
    "schedule = firstModel.schedule\r\n",
    "self = firstModel.schedule"
   ],
   "outputs": [],
   "metadata": {}
  },
  {
   "cell_type": "code",
   "execution_count": 1,
   "source": [
    "from experiment import runExperiment\r\n",
    "from multiprocessing import Pool\r\n",
    "import csv"
   ],
   "outputs": [],
   "metadata": {}
  },
  {
   "cell_type": "code",
   "execution_count": 2,
   "source": [
    "#10 runs in 271.2s\r\n",
    "#for range in range(50,61):\r\n",
    "#    print(runExperiment(range))"
   ],
   "outputs": [],
   "metadata": {}
  },
  {
   "cell_type": "code",
   "execution_count": 3,
   "source": [
    "#10 runs in 109.5s\r\n",
    "#1000 runs in \r\n",
    "results = set()\r\n",
    "for i in range(2):\r\n",
    "    p = Pool(8)\r\n",
    "    results = results.union(p.map(runExperiment, [round(x * 0.01, 2) for x in range(101)]))\r\n",
    "    p.close()\r\n",
    "    p.join()\r\n",
    "    print(f'Iteration {i + 1} finished.')\r\n",
    "\r\n",
    "with open('output.csv', 'w', newline='') as csvfile:\r\n",
    "    writer = csv.writer(csvfile, delimiter=',', quoting=csv.QUOTE_NONNUMERIC)\r\n",
    "    for r in results:\r\n",
    "        writer.writerow(r)"
   ],
   "outputs": [
    {
     "output_type": "stream",
     "name": "stdout",
     "text": [
      "Iteration 1 finished.\n",
      "Iteration 2 finished.\n"
     ]
    }
   ],
   "metadata": {}
  },
  {
   "cell_type": "code",
   "execution_count": 5,
   "source": [
    "with open('output.csv', 'w', newline='') as csvfile:\r\n",
    "    writer = csv.writer(csvfile, delimiter=',', quoting=csv.QUOTE_NONNUMERIC)\r\n",
    "    for r in results:\r\n",
    "        writer.writerow(r)"
   ],
   "outputs": [],
   "metadata": {}
  },
  {
   "cell_type": "code",
   "execution_count": null,
   "source": [],
   "outputs": [],
   "metadata": {}
  }
 ],
 "metadata": {
  "interpreter": {
   "hash": "7c9a13960f88875e3f5e0fdc472d8acf7c1a70b972b6c734897a0b8d4e657813"
  },
  "kernelspec": {
   "name": "python3",
   "display_name": "Python 3.7.3 64-bit"
  },
  "language_info": {
   "codemirror_mode": {
    "name": "ipython",
    "version": 3
   },
   "file_extension": ".py",
   "mimetype": "text/x-python",
   "name": "python",
   "nbconvert_exporter": "python",
   "pygments_lexer": "ipython3",
   "version": "3.7.3"
  }
 },
 "nbformat": 4,
 "nbformat_minor": 2
}